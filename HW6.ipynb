{
  "nbformat": 4,
  "nbformat_minor": 0,
  "metadata": {
    "colab": {
      "name": "HW6.ipynb",
      "provenance": [],
      "authorship_tag": "ABX9TyPiKox98Vffb9lBVvcOYlgf",
      "include_colab_link": true
    },
    "kernelspec": {
      "name": "python3",
      "display_name": "Python 3"
    }
  },
  "cells": [
    {
      "cell_type": "markdown",
      "metadata": {
        "id": "view-in-github",
        "colab_type": "text"
      },
      "source": [
        "<a href=\"https://colab.research.google.com/github/SvA1/Compling/blob/master/HW6.ipynb\" target=\"_parent\"><img src=\"https://colab.research.google.com/assets/colab-badge.svg\" alt=\"Open In Colab\"/></a>"
      ]
    },
    {
      "cell_type": "code",
      "metadata": {
        "id": "gPjFyuMsUTRe",
        "colab_type": "code",
        "colab": {}
      },
      "source": [
        "import pandas as pd\n",
        "from lxml import html\n",
        "import numpy as np\n",
        "from tqdm import tqdm\n",
        "from matplotlib import pyplot as plt\n",
        "from sklearn.decomposition import TruncatedSVD, NMF, PCA\n",
        "from sklearn.manifold import TSNE\n",
        "from sklearn.feature_extraction.text import TfidfVectorizer, CountVectorizer\n",
        "from sklearn.metrics.pairwise import cosine_distances, cosine_similarity\n",
        "from sklearn.ensemble import RandomForestClassifier\n",
        "from sklearn import metrics\n",
        "from sklearn.model_selection import cross_val_score\n",
        "import gensim\n",
        "import numpy as np\n",
        "from sklearn.cluster import MiniBatchKMeans\n",
        "from sklearn.linear_model import LogisticRegression\n",
        "from sklearn.model_selection import train_test_split\n",
        "from sklearn.metrics import classification_report\n",
        "from collections import Counter, defaultdict\n",
        "from string import punctuation\n",
        "import os\n",
        "from nltk.corpus import stopwords\n",
        "!pip install pymorphy2\n",
        "from pymorphy2 import MorphAnalyzer\n",
        "from sklearn.model_selection import cross_val_score\n",
        "from sklearn.metrics import f1_score\n",
        "from scipy import spatial"
      ],
      "execution_count": 0,
      "outputs": []
    },
    {
      "cell_type": "code",
      "metadata": {
        "id": "Qeq4OMReozpV",
        "colab_type": "code",
        "colab": {}
      },
      "source": [
        "!wget http://vectors.nlpl.eu/repository/20/180.zip"
      ],
      "execution_count": 0,
      "outputs": []
    },
    {
      "cell_type": "code",
      "metadata": {
        "id": "RRoTExV7E-WC",
        "colab_type": "code",
        "colab": {}
      },
      "source": [
        "import nltk\n",
        "nltk.download('stopwords')\n",
        "morph = MorphAnalyzer()\n",
        "punct = punctuation+'«»—…“”*№–'\n",
        "stops = set(stopwords.words('russian'))"
      ],
      "execution_count": 0,
      "outputs": []
    },
    {
      "cell_type": "code",
      "metadata": {
        "id": "0GRIznF7DsTN",
        "colab_type": "code",
        "colab": {}
      },
      "source": [
        "def normalize(text):\n",
        "    words = [word.strip(punct) for word in text.lower().split()]\n",
        "    words = [morph.parse(word)[0].normal_form for word in words if word and word not in stops]\n",
        "    return ' '.join(words)"
      ],
      "execution_count": 0,
      "outputs": []
    },
    {
      "cell_type": "code",
      "metadata": {
        "id": "dAaUQtfgSZZE",
        "colab_type": "code",
        "colab": {}
      },
      "source": [
        "def tokenize(text):\n",
        "    words = [word.strip(punct) for word in text.lower().split()]\n",
        "    return ' '.join(words)"
      ],
      "execution_count": 0,
      "outputs": []
    },
    {
      "cell_type": "markdown",
      "metadata": {
        "id": "MJuYVNWw9XVD",
        "colab_type": "text"
      },
      "source": [
        "**Моя модель**"
      ]
    },
    {
      "cell_type": "code",
      "metadata": {
        "id": "qiAp-L9SE60w",
        "colab_type": "code",
        "colab": {}
      },
      "source": [
        "data = open('corpus_hum.txt').read().splitlines()"
      ],
      "execution_count": 0,
      "outputs": []
    },
    {
      "cell_type": "code",
      "metadata": {
        "id": "jPrwZ9wRSb_b",
        "colab_type": "code",
        "colab": {}
      },
      "source": [
        "data_norm = [normalize(text) for text in tqdm(data)]"
      ],
      "execution_count": 0,
      "outputs": []
    },
    {
      "cell_type": "code",
      "metadata": {
        "id": "_GviaT2aFJgS",
        "colab_type": "code",
        "colab": {}
      },
      "source": [
        "data_norm = [text for text in tqdm(data_norm) if text]"
      ],
      "execution_count": 0,
      "outputs": []
    },
    {
      "cell_type": "code",
      "metadata": {
        "id": "Z59B1QkzTCKL",
        "colab_type": "code",
        "colab": {}
      },
      "source": [
        "w2v = gensim.models.Word2Vec([text.split() for text in data_norm], size=60, sg=1)"
      ],
      "execution_count": 0,
      "outputs": []
    },
    {
      "cell_type": "code",
      "metadata": {
        "id": "SD1XiV75INOw",
        "colab_type": "code",
        "colab": {}
      },
      "source": [
        "w2v.save('w2v.model')"
      ],
      "execution_count": 0,
      "outputs": []
    },
    {
      "cell_type": "markdown",
      "metadata": {
        "id": "UbM03_AO-Lp8",
        "colab_type": "text"
      },
      "source": [
        "**Модель с rusvectores** \n"
      ]
    },
    {
      "cell_type": "code",
      "metadata": {
        "id": "T6CpMrl3pKXq",
        "colab_type": "code",
        "colab": {}
      },
      "source": [
        "#from zipfile import ZipFile\n",
        "#with ZipFile(\"180.zip\", \"r\") as zipObj:\n",
        "#  zipObj.extractall()"
      ],
      "execution_count": 0,
      "outputs": []
    },
    {
      "cell_type": "code",
      "metadata": {
        "id": "8ro3dW1HTcN0",
        "colab_type": "code",
        "colab": {}
      },
      "source": [
        "w2v_vectores = gensim.models.KeyedVectors.load_word2vec_format('model.bin', binary=True)"
      ],
      "execution_count": 0,
      "outputs": []
    },
    {
      "cell_type": "markdown",
      "metadata": {
        "id": "R4kBWcfC9g-n",
        "colab_type": "text"
      },
      "source": [
        "**Перифразы**"
      ]
    },
    {
      "cell_type": "code",
      "metadata": {
        "id": "3lpWWbxlTjZX",
        "colab_type": "code",
        "colab": {}
      },
      "source": [
        "corpus_xml = html.fromstring(open('paraphrases.xml', 'rb').read())\n",
        "texts_1 = []\n",
        "texts_2 = []\n",
        "\n",
        "classes = []\n",
        "\n",
        "for p in corpus_xml.xpath('//paraphrase'):\n",
        "    texts_1.append(p.xpath('./value[@name=\"text_1\"]/text()')[0])\n",
        "    texts_2.append(p.xpath('./value[@name=\"text_2\"]/text()')[0])\n",
        "    classes.append(p.xpath('./value[@name=\"class\"]/text()')[0])\n",
        "    \n",
        "data = pd.DataFrame({'text_1':texts_1, 'text_2':texts_2, 'label':classes})"
      ],
      "execution_count": 0,
      "outputs": []
    },
    {
      "cell_type": "code",
      "metadata": {
        "id": "NGKcwMyCyli-",
        "colab_type": "code",
        "colab": {}
      },
      "source": [
        "data['text_1_norm'] = tqdm(data['text_1'].apply(normalize))"
      ],
      "execution_count": 0,
      "outputs": []
    },
    {
      "cell_type": "code",
      "metadata": {
        "id": "4Q-kDByYyn3A",
        "colab_type": "code",
        "colab": {}
      },
      "source": [
        "data['text_2_norm'] = tqdm(data['text_2'].apply(normalize))"
      ],
      "execution_count": 0,
      "outputs": []
    },
    {
      "cell_type": "code",
      "metadata": {
        "id": "pjabjNPEyrPd",
        "colab_type": "code",
        "colab": {}
      },
      "source": [
        "tfidf = TfidfVectorizer(min_df=3, max_df=0.4, max_features=1000)\n",
        "tfidf.fit(pd.concat([data['text_1_norm'], data['text_2_norm']]))"
      ],
      "execution_count": 0,
      "outputs": []
    },
    {
      "cell_type": "markdown",
      "metadata": {
        "id": "qcoJbni7GFea",
        "colab_type": "text"
      },
      "source": [
        "**Embeddings**"
      ]
    },
    {
      "cell_type": "code",
      "metadata": {
        "id": "70Sbu7gKzbxM",
        "colab_type": "code",
        "colab": {}
      },
      "source": [
        "def embedding(text, model, dim):\n",
        "    text = text.split()\n",
        "    \n",
        "    \n",
        "    words = Counter(text)\n",
        "    total = len(text)\n",
        "    vectors = np.zeros((len(words), dim))\n",
        "    \n",
        "    for i,word in enumerate(words):\n",
        "        try:\n",
        "            v = model[word]\n",
        "            vectors[i] = v*(words[word]/total) \n",
        "        except (KeyError, ValueError):\n",
        "            continue\n",
        "    \n",
        "    if vectors.any():\n",
        "        vector = np.average(vectors, axis=0)\n",
        "    else:\n",
        "        vector = np.zeros((dim))\n",
        "    \n",
        "    return vector"
      ],
      "execution_count": 0,
      "outputs": []
    },
    {
      "cell_type": "code",
      "metadata": {
        "id": "sZGaFXaNznEQ",
        "colab_type": "code",
        "colab": {}
      },
      "source": [
        "dim = 60\n",
        "X_text_1_w2v = np.zeros((len(data['text_1_norm']), dim))\n",
        "X_text_2_w2v = np.zeros((len(data['text_2_norm']), dim))\n",
        "\n",
        "for i, text in enumerate(data['text_1_norm'].values):\n",
        "    X_text_1_w2v[i] = embedding(text, w2v, dim)\n",
        "    \n",
        "for i, text in enumerate(data['text_2_norm'].values):\n",
        "    X_text_2_w2v[i] = embedding(text, w2v, dim)"
      ],
      "execution_count": 0,
      "outputs": []
    },
    {
      "cell_type": "code",
      "metadata": {
        "id": "RY9cEWnv1qQK",
        "colab_type": "code",
        "colab": {}
      },
      "source": [
        "X_text_w2v = np.concatenate([X_text_1_w2v, X_text_2_w2v], axis=1)"
      ],
      "execution_count": 0,
      "outputs": []
    },
    {
      "cell_type": "code",
      "metadata": {
        "id": "PHM0Jqr5133Z",
        "colab_type": "code",
        "colab": {}
      },
      "source": [
        "y = data['label'].values"
      ],
      "execution_count": 0,
      "outputs": []
    },
    {
      "cell_type": "code",
      "metadata": {
        "id": "kY374u3F71mw",
        "colab_type": "code",
        "colab": {}
      },
      "source": [
        "clf = LogisticRegression(C=1000, class_weight='balanced')"
      ],
      "execution_count": 0,
      "outputs": []
    },
    {
      "cell_type": "code",
      "metadata": {
        "id": "iSMbRfM018w6",
        "colab_type": "code",
        "colab": {}
      },
      "source": [
        "scores_1 = cross_val_score(clf, X_text_w2v, y, cv=5, scoring='f1_macro')"
      ],
      "execution_count": 0,
      "outputs": []
    },
    {
      "cell_type": "code",
      "metadata": {
        "id": "HGN4Em7C1_bL",
        "colab_type": "code",
        "colab": {
          "base_uri": "https://localhost:8080/",
          "height": 35
        },
        "outputId": "3f8f9ae4-2246-4274-cb8d-b63a11e69b82"
      },
      "source": [
        "scores_1.mean()"
      ],
      "execution_count": 89,
      "outputs": [
        {
          "output_type": "execute_result",
          "data": {
            "text/plain": [
              "0.389981025763696"
            ]
          },
          "metadata": {
            "tags": []
          },
          "execution_count": 89
        }
      ]
    },
    {
      "cell_type": "code",
      "metadata": {
        "id": "JNip8xim4sIc",
        "colab_type": "code",
        "colab": {}
      },
      "source": [
        "data2= pd.read_csv('data_paraphraser_norm.csv')"
      ],
      "execution_count": 0,
      "outputs": []
    },
    {
      "cell_type": "code",
      "metadata": {
        "id": "N6KnWxsP5QMI",
        "colab_type": "code",
        "colab": {}
      },
      "source": [
        "dim = 300\n",
        "X2_text_1_w2v = np.zeros((len(data2['text_1_norm']), dim))\n",
        "X2_text_2_w2v = np.zeros((len(data2['text_2_norm']), dim))\n",
        "\n",
        "for i, text in enumerate(data2['text_1_norm'].values):\n",
        "    X2_text_1_w2v[i] = embedding(text, w2v_vectores, dim)\n",
        "    \n",
        "for i, text in enumerate(data2['text_2_norm'].values):\n",
        "    X2_text_2_w2v[i] = embedding(text, w2v_vectores, dim)"
      ],
      "execution_count": 0,
      "outputs": []
    },
    {
      "cell_type": "code",
      "metadata": {
        "id": "0aDVFFf15T2t",
        "colab_type": "code",
        "colab": {}
      },
      "source": [
        "X2_text_w2v = np.concatenate([X2_text_1_w2v, X2_text_2_w2v], axis=1)"
      ],
      "execution_count": 0,
      "outputs": []
    },
    {
      "cell_type": "code",
      "metadata": {
        "id": "JAvFCgIx5gJz",
        "colab_type": "code",
        "colab": {}
      },
      "source": [
        "scores_2 = cross_val_score(clf, X2_text_w2v, y, cv=5, scoring='f1_macro')"
      ],
      "execution_count": 0,
      "outputs": []
    },
    {
      "cell_type": "code",
      "metadata": {
        "id": "7I9PLa0z5iol",
        "colab_type": "code",
        "colab": {
          "base_uri": "https://localhost:8080/",
          "height": 35
        },
        "outputId": "84dc4a2b-98cd-4e52-a011-e4cca9617b8f"
      },
      "source": [
        "scores_2.mean()"
      ],
      "execution_count": 90,
      "outputs": [
        {
          "output_type": "execute_result",
          "data": {
            "text/plain": [
              "0.38830880522151473"
            ]
          },
          "metadata": {
            "tags": []
          },
          "execution_count": 90
        }
      ]
    },
    {
      "cell_type": "markdown",
      "metadata": {
        "id": "t-SvAfPHDtE0",
        "colab_type": "text"
      },
      "source": [
        "**Вывод**\n",
        "\n",
        "Моя модель и модель с русвекторес показали почти одинаковый результат"
      ]
    },
    {
      "cell_type": "code",
      "metadata": {
        "id": "7MnovT5-6h6J",
        "colab_type": "code",
        "colab": {}
      },
      "source": [
        ""
      ],
      "execution_count": 0,
      "outputs": []
    },
    {
      "cell_type": "markdown",
      "metadata": {
        "id": "T2wUcld1EihC",
        "colab_type": "text"
      },
      "source": [
        "## Задание 2"
      ]
    },
    {
      "cell_type": "markdown",
      "metadata": {
        "id": "1YFrz00lG1CM",
        "colab_type": "text"
      },
      "source": [
        "**SVD**"
      ]
    },
    {
      "cell_type": "code",
      "metadata": {
        "id": "YAvWz4hUIqhE",
        "colab_type": "code",
        "colab": {}
      },
      "source": [
        "svd = TruncatedSVD(800, n_iter=20, random_state=20)"
      ],
      "execution_count": 0,
      "outputs": []
    },
    {
      "cell_type": "code",
      "metadata": {
        "id": "Vsad4LGiHbjW",
        "colab_type": "code",
        "colab": {}
      },
      "source": [
        "tfidf = TfidfVectorizer(min_df=3, max_df=0.4, max_features=1000)\n",
        "tfidf.fit(pd.concat([data['text_1_norm'], data['text_2_norm']]))"
      ],
      "execution_count": 0,
      "outputs": []
    },
    {
      "cell_type": "code",
      "metadata": {
        "id": "mZWUNdXJJCRv",
        "colab_type": "code",
        "colab": {
          "base_uri": "https://localhost:8080/",
          "height": 53
        },
        "outputId": "60201ef1-2aec-4f45-fa50-21fad56644f8"
      },
      "source": [
        "svd.fit(tfidf.transform(pd.concat([data['text_1_norm'], data['text_2_norm']])))"
      ],
      "execution_count": 112,
      "outputs": [
        {
          "output_type": "execute_result",
          "data": {
            "text/plain": [
              "TruncatedSVD(algorithm='randomized', n_components=800, n_iter=20,\n",
              "             random_state=20, tol=0.0)"
            ]
          },
          "metadata": {
            "tags": []
          },
          "execution_count": 112
        }
      ]
    },
    {
      "cell_type": "code",
      "metadata": {
        "id": "XVhQiG5dH7Sv",
        "colab_type": "code",
        "colab": {}
      },
      "source": [
        "X_text_1_svd = svd.transform(tfidf.transform(data['text_1_norm']))\n",
        "X_text_2_svd = svd.transform(tfidf.transform(data['text_2_norm']))\n",
        "\n",
        "X_text_svd = np.concatenate([X_text_1_svd, X_text_2_svd], axis=1)"
      ],
      "execution_count": 0,
      "outputs": []
    },
    {
      "cell_type": "code",
      "metadata": {
        "id": "H5Tx19ltIJlU",
        "colab_type": "code",
        "colab": {}
      },
      "source": [
        "scores_svd = cross_val_score(clf, X_text_svd, y, cv=5, scoring='f1_macro')"
      ],
      "execution_count": 0,
      "outputs": []
    },
    {
      "cell_type": "code",
      "metadata": {
        "id": "GCGxvT7PIMLI",
        "colab_type": "code",
        "colab": {
          "base_uri": "https://localhost:8080/",
          "height": 35
        },
        "outputId": "f3430253-fddd-4a49-f183-df18d0c70396"
      },
      "source": [
        "scores_svd.mean()"
      ],
      "execution_count": 120,
      "outputs": [
        {
          "output_type": "execute_result",
          "data": {
            "text/plain": [
              "0.37646884473504405"
            ]
          },
          "metadata": {
            "tags": []
          },
          "execution_count": 120
        }
      ]
    },
    {
      "cell_type": "markdown",
      "metadata": {
        "id": "K0-CzB2HHB0S",
        "colab_type": "text"
      },
      "source": [
        "**NMF**"
      ]
    },
    {
      "cell_type": "code",
      "metadata": {
        "id": "gB5qsK3hG5SH",
        "colab_type": "code",
        "colab": {}
      },
      "source": [
        "nmf = NMF(70, init='nndsvd', random_state=20, alpha=0.4, tol=1e-1, solver='mu')\n",
        "nmf.fit(tfidf.transform(pd.concat([data['text_1_norm'], data['text_2_norm']])))"
      ],
      "execution_count": 0,
      "outputs": []
    },
    {
      "cell_type": "code",
      "metadata": {
        "id": "Ho3q7FQRJ2Cc",
        "colab_type": "code",
        "colab": {}
      },
      "source": [
        "X_text_1_nmf = nmf.transform(tfidf.transform(data['text_1_norm']))\n",
        "X_text_2_nmf = nmf.transform(tfidf.transform(data['text_2_norm']))"
      ],
      "execution_count": 0,
      "outputs": []
    },
    {
      "cell_type": "code",
      "metadata": {
        "id": "Qh2Ct28oJ5CW",
        "colab_type": "code",
        "colab": {}
      },
      "source": [
        ""
      ],
      "execution_count": 0,
      "outputs": []
    },
    {
      "cell_type": "markdown",
      "metadata": {
        "id": "Rgv1hfdQLINv",
        "colab_type": "text"
      },
      "source": [
        "**Моя W2V модель**"
      ]
    },
    {
      "cell_type": "code",
      "metadata": {
        "id": "cJ7qep3kLOTL",
        "colab_type": "code",
        "colab": {
          "base_uri": "https://localhost:8080/",
          "height": 73
        },
        "outputId": "cea64ac1-3811-43fd-a2d3-33b0ecd8ee33"
      },
      "source": [
        "dim = 60\n",
        "X_text_1_w2v = np.zeros((len(data['text_1_norm']), dim))\n",
        "X_text_2_w2v = np.zeros((len(data['text_2_norm']), dim))\n",
        "\n",
        "for i, text in enumerate(data['text_1_norm'].values):\n",
        "    X_text_1_w2v[i] = embedding(text, w2v, dim)\n",
        "    \n",
        "for i, text in enumerate(data['text_2_norm'].values):\n",
        "    X_text_2_w2v[i] = embedding(text, w2v, dim)"
      ],
      "execution_count": 121,
      "outputs": [
        {
          "output_type": "stream",
          "text": [
            "/usr/local/lib/python3.6/dist-packages/ipykernel_launcher.py:11: DeprecationWarning: Call to deprecated `__getitem__` (Method will be removed in 4.0.0, use self.wv.__getitem__() instead).\n",
            "  # This is added back by InteractiveShellApp.init_path()\n"
          ],
          "name": "stderr"
        }
      ]
    },
    {
      "cell_type": "markdown",
      "metadata": {
        "id": "WCgFmxE_LXvO",
        "colab_type": "text"
      },
      "source": [
        "**W2V с rusvectores**"
      ]
    },
    {
      "cell_type": "code",
      "metadata": {
        "id": "RMFct70FLTC5",
        "colab_type": "code",
        "colab": {}
      },
      "source": [
        "dim = 300\n",
        "X2_text_1_w2v = np.zeros((len(data2['text_1_norm']), dim))\n",
        "X2_text_2_w2v = np.zeros((len(data2['text_2_norm']), dim))\n",
        "\n",
        "for i, text in enumerate(data2['text_1_norm'].values):\n",
        "    X2_text_1_w2v[i] = embedding(text, w2v_vectores, dim)\n",
        "    \n",
        "for i, text in enumerate(data2['text_2_norm'].values):\n",
        "    X2_text_2_w2v[i] = embedding(text, w2v_vectores, dim)"
      ],
      "execution_count": 0,
      "outputs": []
    },
    {
      "cell_type": "markdown",
      "metadata": {
        "id": "Hs34ptjxLsKy",
        "colab_type": "text"
      },
      "source": [
        "**Cosine distance**"
      ]
    },
    {
      "cell_type": "code",
      "metadata": {
        "id": "GMpVNTQYLd-1",
        "colab_type": "code",
        "colab": {}
      },
      "source": [
        ""
      ],
      "execution_count": 0,
      "outputs": []
    }
  ]
}