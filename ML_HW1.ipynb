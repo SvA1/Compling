{
  "nbformat": 4,
  "nbformat_minor": 0,
  "metadata": {
    "colab": {
      "name": "ML_HW1.ipynb",
      "provenance": [],
      "toc_visible": true,
      "authorship_tag": "ABX9TyNna5i+Kh+atfnom7N4HYWd",
      "include_colab_link": true
    },
    "kernelspec": {
      "name": "python3",
      "display_name": "Python 3"
    }
  },
  "cells": [
    {
      "cell_type": "markdown",
      "metadata": {
        "id": "view-in-github",
        "colab_type": "text"
      },
      "source": [
        "<a href=\"https://colab.research.google.com/github/SvA1/Compling/blob/master/ML_HW1.ipynb\" target=\"_parent\"><img src=\"https://colab.research.google.com/assets/colab-badge.svg\" alt=\"Open In Colab\"/></a>"
      ]
    },
    {
      "cell_type": "code",
      "metadata": {
        "id": "drn1fs9kImnF",
        "colab_type": "code",
        "colab": {}
      },
      "source": [
        "import numpy as np\n",
        "import pandas as pd"
      ],
      "execution_count": 0,
      "outputs": []
    },
    {
      "cell_type": "code",
      "metadata": {
        "id": "uny4iN81I5V6",
        "colab_type": "code",
        "colab": {}
      },
      "source": [
        "pd.set_option('display.max_columns', 100)\n",
        "pd.set_option('display.max_rows', 100)"
      ],
      "execution_count": 0,
      "outputs": []
    },
    {
      "cell_type": "code",
      "metadata": {
        "id": "PRFN3dFANkQF",
        "colab_type": "code",
        "colab": {}
      },
      "source": [
        "data = pd.read_csv('weatherHistory.csv')"
      ],
      "execution_count": 0,
      "outputs": []
    },
    {
      "cell_type": "code",
      "metadata": {
        "id": "lWkc0eBtNrMM",
        "colab_type": "code",
        "outputId": "540a2446-0696-40c2-9ba4-b839513c5535",
        "colab": {
          "base_uri": "https://localhost:8080/",
          "height": 106
        }
      },
      "source": [
        "data.columns"
      ],
      "execution_count": 45,
      "outputs": [
        {
          "output_type": "execute_result",
          "data": {
            "text/plain": [
              "Index(['Formatted Date', 'Summary', 'Precip Type', 'Temperature (C)',\n",
              "       'Apparent Temperature (C)', 'Humidity', 'Wind Speed (km/h)',\n",
              "       'Wind Bearing (degrees)', 'Visibility (km)', 'Loud Cover',\n",
              "       'Pressure (millibars)', 'Daily Summary'],\n",
              "      dtype='object')"
            ]
          },
          "metadata": {
            "tags": []
          },
          "execution_count": 45
        }
      ]
    },
    {
      "cell_type": "code",
      "metadata": {
        "id": "4s6uu4sXNwQJ",
        "colab_type": "code",
        "colab": {}
      },
      "source": [
        "def clean_column(column):\n",
        "    column = column.lower()\n",
        "    column = [word for word in column.split() if not'(' in word]\n",
        "    column = '_'.join(column)\n",
        "    return column"
      ],
      "execution_count": 0,
      "outputs": []
    },
    {
      "cell_type": "code",
      "metadata": {
        "id": "M_J5gmjCbuCK",
        "colab_type": "code",
        "colab": {}
      },
      "source": [
        "replace = {}\n",
        "for column in data.columns:\n",
        "    replace[column] = clean_column(column)\n",
        "data.rename(replace, axis=1, inplace=True)"
      ],
      "execution_count": 0,
      "outputs": []
    },
    {
      "cell_type": "code",
      "metadata": {
        "id": "BbuUmsXkzGxT",
        "colab_type": "code",
        "colab": {}
      },
      "source": [
        "data.rename({'formatted_date': 'date'}, axis=1, inplace=True)"
      ],
      "execution_count": 0,
      "outputs": []
    },
    {
      "cell_type": "code",
      "metadata": {
        "id": "vZO0blOhz2j3",
        "colab_type": "code",
        "outputId": "7d756871-3a92-40a9-dc66-783c1682e485",
        "colab": {
          "base_uri": "https://localhost:8080/",
          "height": 88
        }
      },
      "source": [
        "data.columns"
      ],
      "execution_count": 49,
      "outputs": [
        {
          "output_type": "execute_result",
          "data": {
            "text/plain": [
              "Index(['date', 'summary', 'precip_type', 'temperature', 'apparent_temperature',\n",
              "       'humidity', 'wind_speed', 'wind_bearing', 'visibility', 'loud_cover',\n",
              "       'pressure', 'daily_summary'],\n",
              "      dtype='object')"
            ]
          },
          "metadata": {
            "tags": []
          },
          "execution_count": 49
        }
      ]
    },
    {
      "cell_type": "code",
      "metadata": {
        "id": "sEBKdt-4z8Rx",
        "colab_type": "code",
        "colab": {}
      },
      "source": [
        "data.date = pd.to_datetime(data.date, utc=True)"
      ],
      "execution_count": 0,
      "outputs": []
    },
    {
      "cell_type": "code",
      "metadata": {
        "id": "7t9tpDh-3BEN",
        "colab_type": "code",
        "outputId": "dab765b8-f6ec-4378-e8fd-b35baee8ce79",
        "colab": {
          "base_uri": "https://localhost:8080/",
          "height": 231
        }
      },
      "source": [
        "data.date"
      ],
      "execution_count": 51,
      "outputs": [
        {
          "output_type": "execute_result",
          "data": {
            "text/plain": [
              "0       2006-03-31 22:00:00+00:00\n",
              "1       2006-03-31 23:00:00+00:00\n",
              "2       2006-04-01 00:00:00+00:00\n",
              "3       2006-04-01 01:00:00+00:00\n",
              "4       2006-04-01 02:00:00+00:00\n",
              "                   ...           \n",
              "96448   2016-09-09 17:00:00+00:00\n",
              "96449   2016-09-09 18:00:00+00:00\n",
              "96450   2016-09-09 19:00:00+00:00\n",
              "96451   2016-09-09 20:00:00+00:00\n",
              "96452   2016-09-09 21:00:00+00:00\n",
              "Name: date, Length: 96453, dtype: datetime64[ns, UTC]"
            ]
          },
          "metadata": {
            "tags": []
          },
          "execution_count": 51
        }
      ]
    },
    {
      "cell_type": "code",
      "metadata": {
        "id": "kDyeo1sr3IdT",
        "colab_type": "code",
        "colab": {}
      },
      "source": [
        "data.sort_values(by='date', inplace=True)"
      ],
      "execution_count": 0,
      "outputs": []
    },
    {
      "cell_type": "code",
      "metadata": {
        "id": "Q_quopvT3M31",
        "colab_type": "code",
        "outputId": "97f5a4f4-3b3e-4538-f793-2016469ae9a2",
        "colab": {
          "base_uri": "https://localhost:8080/",
          "height": 334
        }
      },
      "source": [
        "data.head(4)"
      ],
      "execution_count": 53,
      "outputs": [
        {
          "output_type": "execute_result",
          "data": {
            "text/html": [
              "<div>\n",
              "<style scoped>\n",
              "    .dataframe tbody tr th:only-of-type {\n",
              "        vertical-align: middle;\n",
              "    }\n",
              "\n",
              "    .dataframe tbody tr th {\n",
              "        vertical-align: top;\n",
              "    }\n",
              "\n",
              "    .dataframe thead th {\n",
              "        text-align: right;\n",
              "    }\n",
              "</style>\n",
              "<table border=\"1\" class=\"dataframe\">\n",
              "  <thead>\n",
              "    <tr style=\"text-align: right;\">\n",
              "      <th></th>\n",
              "      <th>date</th>\n",
              "      <th>summary</th>\n",
              "      <th>precip_type</th>\n",
              "      <th>temperature</th>\n",
              "      <th>apparent_temperature</th>\n",
              "      <th>humidity</th>\n",
              "      <th>wind_speed</th>\n",
              "      <th>wind_bearing</th>\n",
              "      <th>visibility</th>\n",
              "      <th>loud_cover</th>\n",
              "      <th>pressure</th>\n",
              "      <th>daily_summary</th>\n",
              "    </tr>\n",
              "  </thead>\n",
              "  <tbody>\n",
              "    <tr>\n",
              "      <th>2880</th>\n",
              "      <td>2005-12-31 23:00:00+00:00</td>\n",
              "      <td>Partly Cloudy</td>\n",
              "      <td>rain</td>\n",
              "      <td>0.577778</td>\n",
              "      <td>-4.050000</td>\n",
              "      <td>0.89</td>\n",
              "      <td>17.1143</td>\n",
              "      <td>140.0</td>\n",
              "      <td>9.9820</td>\n",
              "      <td>0.0</td>\n",
              "      <td>1016.66</td>\n",
              "      <td>Mostly cloudy throughout the day.</td>\n",
              "    </tr>\n",
              "    <tr>\n",
              "      <th>2881</th>\n",
              "      <td>2006-01-01 00:00:00+00:00</td>\n",
              "      <td>Mostly Cloudy</td>\n",
              "      <td>rain</td>\n",
              "      <td>1.161111</td>\n",
              "      <td>-3.238889</td>\n",
              "      <td>0.85</td>\n",
              "      <td>16.6152</td>\n",
              "      <td>139.0</td>\n",
              "      <td>9.9015</td>\n",
              "      <td>0.0</td>\n",
              "      <td>1016.15</td>\n",
              "      <td>Mostly cloudy throughout the day.</td>\n",
              "    </tr>\n",
              "    <tr>\n",
              "      <th>2882</th>\n",
              "      <td>2006-01-01 01:00:00+00:00</td>\n",
              "      <td>Mostly Cloudy</td>\n",
              "      <td>rain</td>\n",
              "      <td>1.666667</td>\n",
              "      <td>-3.155556</td>\n",
              "      <td>0.82</td>\n",
              "      <td>20.2538</td>\n",
              "      <td>140.0</td>\n",
              "      <td>9.9015</td>\n",
              "      <td>0.0</td>\n",
              "      <td>1015.87</td>\n",
              "      <td>Mostly cloudy throughout the day.</td>\n",
              "    </tr>\n",
              "    <tr>\n",
              "      <th>2883</th>\n",
              "      <td>2006-01-01 02:00:00+00:00</td>\n",
              "      <td>Overcast</td>\n",
              "      <td>rain</td>\n",
              "      <td>1.711111</td>\n",
              "      <td>-2.194444</td>\n",
              "      <td>0.82</td>\n",
              "      <td>14.4900</td>\n",
              "      <td>140.0</td>\n",
              "      <td>9.9015</td>\n",
              "      <td>0.0</td>\n",
              "      <td>1015.56</td>\n",
              "      <td>Mostly cloudy throughout the day.</td>\n",
              "    </tr>\n",
              "  </tbody>\n",
              "</table>\n",
              "</div>"
            ],
            "text/plain": [
              "                          date        summary precip_type  temperature  \\\n",
              "2880 2005-12-31 23:00:00+00:00  Partly Cloudy        rain     0.577778   \n",
              "2881 2006-01-01 00:00:00+00:00  Mostly Cloudy        rain     1.161111   \n",
              "2882 2006-01-01 01:00:00+00:00  Mostly Cloudy        rain     1.666667   \n",
              "2883 2006-01-01 02:00:00+00:00       Overcast        rain     1.711111   \n",
              "\n",
              "      apparent_temperature  humidity  wind_speed  wind_bearing  visibility  \\\n",
              "2880             -4.050000      0.89     17.1143         140.0      9.9820   \n",
              "2881             -3.238889      0.85     16.6152         139.0      9.9015   \n",
              "2882             -3.155556      0.82     20.2538         140.0      9.9015   \n",
              "2883             -2.194444      0.82     14.4900         140.0      9.9015   \n",
              "\n",
              "      loud_cover  pressure                      daily_summary  \n",
              "2880         0.0   1016.66  Mostly cloudy throughout the day.  \n",
              "2881         0.0   1016.15  Mostly cloudy throughout the day.  \n",
              "2882         0.0   1015.87  Mostly cloudy throughout the day.  \n",
              "2883         0.0   1015.56  Mostly cloudy throughout the day.  "
            ]
          },
          "metadata": {
            "tags": []
          },
          "execution_count": 53
        }
      ]
    },
    {
      "cell_type": "markdown",
      "metadata": {
        "id": "Rs74OicV3XOg",
        "colab_type": "text"
      },
      "source": [
        "**1) самый ветрянный месяц**"
      ]
    },
    {
      "cell_type": "code",
      "metadata": {
        "id": "cgMYekRm5LeE",
        "colab_type": "code",
        "colab": {}
      },
      "source": [
        "by_month = data.groupby(by=data.date.dt.month)['date', 'wind_speed'].mean()"
      ],
      "execution_count": 0,
      "outputs": []
    },
    {
      "cell_type": "code",
      "metadata": {
        "id": "xD5e5TcX5nsV",
        "colab_type": "code",
        "outputId": "acb43bea-da5b-46aa-c5d5-fe3a6b80baf8",
        "colab": {
          "base_uri": "https://localhost:8080/",
          "height": 112
        }
      },
      "source": [
        "by_month.loc[by_month.wind_speed == by_month.wind_speed.max()]"
      ],
      "execution_count": 55,
      "outputs": [
        {
          "output_type": "execute_result",
          "data": {
            "text/html": [
              "<div>\n",
              "<style scoped>\n",
              "    .dataframe tbody tr th:only-of-type {\n",
              "        vertical-align: middle;\n",
              "    }\n",
              "\n",
              "    .dataframe tbody tr th {\n",
              "        vertical-align: top;\n",
              "    }\n",
              "\n",
              "    .dataframe thead th {\n",
              "        text-align: right;\n",
              "    }\n",
              "</style>\n",
              "<table border=\"1\" class=\"dataframe\">\n",
              "  <thead>\n",
              "    <tr style=\"text-align: right;\">\n",
              "      <th></th>\n",
              "      <th>wind_speed</th>\n",
              "    </tr>\n",
              "    <tr>\n",
              "      <th>date</th>\n",
              "      <th></th>\n",
              "    </tr>\n",
              "  </thead>\n",
              "  <tbody>\n",
              "    <tr>\n",
              "      <th>3</th>\n",
              "      <td>13.415825</td>\n",
              "    </tr>\n",
              "  </tbody>\n",
              "</table>\n",
              "</div>"
            ],
            "text/plain": [
              "      wind_speed\n",
              "date            \n",
              "3      13.415825"
            ]
          },
          "metadata": {
            "tags": []
          },
          "execution_count": 55
        }
      ]
    },
    {
      "cell_type": "markdown",
      "metadata": {
        "id": "-lzE4P0p6kbV",
        "colab_type": "text"
      },
      "source": [
        "**2)самый влажный месяц**"
      ]
    },
    {
      "cell_type": "code",
      "metadata": {
        "id": "mUwaLeG26IHR",
        "colab_type": "code",
        "colab": {}
      },
      "source": [
        "by_year = data.groupby(by=data.date.dt.year)['date', 'humidity'].mean()"
      ],
      "execution_count": 0,
      "outputs": []
    },
    {
      "cell_type": "code",
      "metadata": {
        "id": "DtkN9OtU6tUz",
        "colab_type": "code",
        "outputId": "69db6687-a852-4cbc-aa1c-0e6675baccb3",
        "colab": {
          "base_uri": "https://localhost:8080/",
          "height": 112
        }
      },
      "source": [
        "by_year.loc[by_year.humidity == by_year.humidity.max()]"
      ],
      "execution_count": 57,
      "outputs": [
        {
          "output_type": "execute_result",
          "data": {
            "text/html": [
              "<div>\n",
              "<style scoped>\n",
              "    .dataframe tbody tr th:only-of-type {\n",
              "        vertical-align: middle;\n",
              "    }\n",
              "\n",
              "    .dataframe tbody tr th {\n",
              "        vertical-align: top;\n",
              "    }\n",
              "\n",
              "    .dataframe thead th {\n",
              "        text-align: right;\n",
              "    }\n",
              "</style>\n",
              "<table border=\"1\" class=\"dataframe\">\n",
              "  <thead>\n",
              "    <tr style=\"text-align: right;\">\n",
              "      <th></th>\n",
              "      <th>humidity</th>\n",
              "    </tr>\n",
              "    <tr>\n",
              "      <th>date</th>\n",
              "      <th></th>\n",
              "    </tr>\n",
              "  </thead>\n",
              "  <tbody>\n",
              "    <tr>\n",
              "      <th>2005</th>\n",
              "      <td>0.89</td>\n",
              "    </tr>\n",
              "  </tbody>\n",
              "</table>\n",
              "</div>"
            ],
            "text/plain": [
              "      humidity\n",
              "date          \n",
              "2005      0.89"
            ]
          },
          "metadata": {
            "tags": []
          },
          "execution_count": 57
        }
      ]
    },
    {
      "cell_type": "markdown",
      "metadata": {
        "id": "ZZyFwLgw64kK",
        "colab_type": "text"
      },
      "source": [
        "**3) неделя с самой переменчивой погодой**"
      ]
    },
    {
      "cell_type": "code",
      "metadata": {
        "id": "Ro-ggN_-6vCh",
        "colab_type": "code",
        "colab": {}
      },
      "source": [
        "by_week = data.groupby(by=data.date.dt.week)['date', 'temperature', 'humidity', 'wind_speed'].std() #данные больше всего отклоняются от среднего"
      ],
      "execution_count": 0,
      "outputs": []
    },
    {
      "cell_type": "code",
      "metadata": {
        "id": "gw9PU4HW7q7r",
        "colab_type": "code",
        "outputId": "38764f8c-3b52-47c2-cb8d-dfa77682408b",
        "colab": {
          "base_uri": "https://localhost:8080/",
          "height": 112
        }
      },
      "source": [
        "by_week.sort_values(by=['humidity', 'temperature', 'wind_speed'], ascending=False).head(1)"
      ],
      "execution_count": 59,
      "outputs": [
        {
          "output_type": "execute_result",
          "data": {
            "text/html": [
              "<div>\n",
              "<style scoped>\n",
              "    .dataframe tbody tr th:only-of-type {\n",
              "        vertical-align: middle;\n",
              "    }\n",
              "\n",
              "    .dataframe tbody tr th {\n",
              "        vertical-align: top;\n",
              "    }\n",
              "\n",
              "    .dataframe thead th {\n",
              "        text-align: right;\n",
              "    }\n",
              "</style>\n",
              "<table border=\"1\" class=\"dataframe\">\n",
              "  <thead>\n",
              "    <tr style=\"text-align: right;\">\n",
              "      <th></th>\n",
              "      <th>temperature</th>\n",
              "      <th>humidity</th>\n",
              "      <th>wind_speed</th>\n",
              "    </tr>\n",
              "    <tr>\n",
              "      <th>date</th>\n",
              "      <th></th>\n",
              "      <th></th>\n",
              "      <th></th>\n",
              "    </tr>\n",
              "  </thead>\n",
              "  <tbody>\n",
              "    <tr>\n",
              "      <th>34</th>\n",
              "      <td>6.149509</td>\n",
              "      <td>0.223476</td>\n",
              "      <td>6.005965</td>\n",
              "    </tr>\n",
              "  </tbody>\n",
              "</table>\n",
              "</div>"
            ],
            "text/plain": [
              "      temperature  humidity  wind_speed\n",
              "date                                   \n",
              "34       6.149509  0.223476    6.005965"
            ]
          },
          "metadata": {
            "tags": []
          },
          "execution_count": 59
        }
      ]
    },
    {
      "cell_type": "code",
      "metadata": {
        "id": "unBvXOO67syt",
        "colab_type": "code",
        "colab": {}
      },
      "source": [
        ""
      ],
      "execution_count": 0,
      "outputs": []
    },
    {
      "cell_type": "markdown",
      "metadata": {
        "id": "quIqKpY_-ba9",
        "colab_type": "text"
      },
      "source": [
        "# Домашнее задание 2"
      ]
    },
    {
      "cell_type": "code",
      "metadata": {
        "id": "dnpIiw24RV8B",
        "colab_type": "code",
        "colab": {
          "base_uri": "https://localhost:8080/",
          "height": 53
        },
        "outputId": "6cff43a9-b9fe-467f-be40-8d4ef8d038c1"
      },
      "source": [
        "import nltk\n",
        "nltk.download('punkt')\n",
        "import string"
      ],
      "execution_count": 65,
      "outputs": [
        {
          "output_type": "stream",
          "text": [
            "[nltk_data] Downloading package punkt to /root/nltk_data...\n",
            "[nltk_data]   Unzipping tokenizers/punkt.zip.\n"
          ],
          "name": "stdout"
        }
      ]
    },
    {
      "cell_type": "code",
      "metadata": {
        "id": "lQbA6gFT-fUn",
        "colab_type": "code",
        "colab": {}
      },
      "source": [
        "data = pd.read_csv('data.csv')"
      ],
      "execution_count": 0,
      "outputs": []
    },
    {
      "cell_type": "markdown",
      "metadata": {
        "id": "EezpSaerTDFm",
        "colab_type": "text"
      },
      "source": [
        "Можно предположить, что объявления с большим количеством предложений более содержательны и, как следствие, более привлекательны для покупателя."
      ]
    },
    {
      "cell_type": "code",
      "metadata": {
        "id": "wS9aPu8gTB3G",
        "colab_type": "code",
        "colab": {}
      },
      "source": [
        "def number_of_sent(text):\n",
        "    return len(nltk.tokenize.sent_tokenize(text, language='russian'))"
      ],
      "execution_count": 0,
      "outputs": []
    },
    {
      "cell_type": "code",
      "metadata": {
        "id": "BNKpbYykTebl",
        "colab_type": "code",
        "colab": {}
      },
      "source": [
        "data['number_of_sent'] = data.description.apply(number_of_sent)"
      ],
      "execution_count": 0,
      "outputs": []
    },
    {
      "cell_type": "code",
      "metadata": {
        "id": "q7vWySqxTjvr",
        "colab_type": "code",
        "colab": {}
      },
      "source": [
        ""
      ],
      "execution_count": 0,
      "outputs": []
    }
  ]
}