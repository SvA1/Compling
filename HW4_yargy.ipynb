{
  "nbformat": 4,
  "nbformat_minor": 0,
  "metadata": {
    "colab": {
      "name": "HW4 yargy.ipynb",
      "provenance": [],
      "authorship_tag": "ABX9TyMvUnYZiZvw3u5omgstz0A4"
    },
    "kernelspec": {
      "name": "python3",
      "display_name": "Python 3"
    }
  },
  "cells": [
    {
      "cell_type": "code",
      "metadata": {
        "id": "BzY6jLkFeg4w",
        "colab_type": "code",
        "colab": {}
      },
      "source": [
        "!pip install yargy\n",
        "from yargy import Parser, rule, or_\n",
        "from yargy.predicates import custom\n",
        "from yargy.pipelines import morph_pipeline\n",
        "from yargy.interpretation import fact\n",
        "\n",
        "import pandas as pd"
      ],
      "execution_count": 0,
      "outputs": []
    },
    {
      "cell_type": "code",
      "metadata": {
        "id": "aKs53FNqfcp0",
        "colab_type": "code",
        "colab": {}
      },
      "source": [
        "!wget https://raw.githubusercontent.com/mannefedov/compling_nlp_hse_course/master/data/pristavki.csv"
      ],
      "execution_count": 0,
      "outputs": []
    },
    {
      "cell_type": "code",
      "metadata": {
        "id": "AbDXEaKze6G5",
        "colab_type": "code",
        "colab": {}
      },
      "source": [
        "data = pd.read_csv('pristavki.csv', header=None, names=['text'])"
      ],
      "execution_count": 0,
      "outputs": []
    },
    {
      "cell_type": "code",
      "metadata": {
        "id": "0GFI6VU6fhT5",
        "colab_type": "code",
        "colab": {
          "base_uri": "https://localhost:8080/",
          "height": 35
        },
        "outputId": "63f3cabc-88d7-4a79-e474-028dce2717f4"
      },
      "source": [
        "data.shape"
      ],
      "execution_count": 4,
      "outputs": [
        {
          "output_type": "execute_result",
          "data": {
            "text/plain": [
              "(9285, 1)"
            ]
          },
          "metadata": {
            "tags": []
          },
          "execution_count": 4
        }
      ]
    },
    {
      "cell_type": "code",
      "metadata": {
        "id": "OF0qquZGfluX",
        "colab_type": "code",
        "colab": {}
      },
      "source": [
        "Game = fact('Game', ['title', 'etc','sequel', 'title_append'])\n",
        "ETC = ['расширенная версия', 'remastered', 'Trilogy', \n",
        "       'Gold Edition', 'Complete',\n",
        "       'Arcade Edition', 'HD Edtiton', ]\n",
        "SEQUEL = ['2', '3', '4', '5', '6', '7', '8' '9', '10', 'II', 'III', 'IV', 'V']\n",
        "\n",
        "JD = rule(morph_pipeline(['Just Dance', 'JustDance']).interpretation(Game.title),\n",
        "         morph_pipeline(SEQUEL).interpretation(Game.sequel).optional(),\n",
        "         morph_pipeline(ETC).interpretation(Game.etc).optional())\n",
        "\n",
        "AC = rule(morph_pipeline(['Assassin\\'s Creed', 'Assassins creed', \n",
        "                          'ассасинс крид', 'ассасин крид',\n",
        "                          'ассассин крид', 'ассассинс крид',\n",
        "                          'ассассин', 'асассин', 'ассассин'\n",
        "                          'асассины', 'асассинс крид', 'асасинс крид']).interpretation(Game.title),\n",
        "          morph_pipeline(SEQUEL).interpretation(Game.sequel).optional(),\n",
        "          morph_pipeline(['Syndicate', 'Brotherhood','Revelations', 'Black Flag', 'Unity', 'Rogue',\n",
        "                          'Синдикат', 'Братство', 'Откровения', 'Черный Флаг','Единство','Изгой']).\n",
        "          interpretation(Game.title_append).optional(),\n",
        "          morph_pipeline(ETC).interpretation(Game.etc).optional())\n",
        "\n",
        "\n",
        "Witcher = rule(morph_pipeline(['Ведьмак','The Witcher', 'Witcher']).interpretation(Game.title),\n",
        "               morph_pipeline(SEQUEL).interpretation(Game.sequel).optional(),\n",
        "               morph_pipeline(['Wild Hunt', 'дикая охота', 'Assassins of Kings', 'убийцы королей']).\n",
        "               interpretation(Game.title_append).optional(),\n",
        "               morph_pipeline(ETC).interpretation(Game.etc).optional())\n",
        "\n",
        "MK = rule(morph_pipeline(['Mortal Kombat','мортал комбат']).interpretation(Game.title),\n",
        "          morph_pipeline(SEQUEL).interpretation(Game.sequel).optional(),\n",
        "          morph_pipeline(['Deception', 'Armaggedon','Deadly Alliance',  'Unchained', 'vs. DC Universe']).\n",
        "          interpretation(Game.title_append).optional(),\n",
        "          morph_pipeline(ETC).interpretation(Game.etc).optional())\n",
        "\n",
        "\n",
        "NFS = rule(morph_pipeline(['NFS', 'Need for speed', \"нид фор спид\"]).interpretation(Game.title),\n",
        "          morph_pipeline(SEQUEL).interpretation(Game.sequel).optional(),\n",
        "          morph_pipeline(['Hot Pursuit', 'Underground', 'Most Wanted', 'Carbon',\n",
        "                         'ProStreet', \"Undercover\", \"Shift\", \"Nitro\", \"Hot Pursuit\", \n",
        "                          \"The Run\", \"Rivals\", \"Payback\"]).\n",
        "          interpretation(Game.title_append).optional(),\n",
        "          morph_pipeline(ETC).interpretation(Game.etc).optional())\n",
        "\n",
        "\n",
        "GAME = or_(JD, AC, Witcher, MK, NFS).interpretation(Game)\n",
        "\n",
        "parser = Parser(GAME)"
      ],
      "execution_count": 0,
      "outputs": []
    },
    {
      "cell_type": "code",
      "metadata": {
        "id": "QzdMgHdyfuYr",
        "colab_type": "code",
        "colab": {}
      },
      "source": [
        "matches = []\n",
        "\n",
        "for sent in data.text:\n",
        "    for match in parser.findall(sent):\n",
        "        matches.append(match.fact)"
      ],
      "execution_count": 0,
      "outputs": []
    },
    {
      "cell_type": "code",
      "metadata": {
        "id": "Sitc2SYKfu-L",
        "colab_type": "code",
        "colab": {
          "base_uri": "https://localhost:8080/",
          "height": 35
        },
        "outputId": "f31f0b12-f739-4bd1-c34d-9f1ad571f659"
      },
      "source": [
        "len(matches)"
      ],
      "execution_count": 15,
      "outputs": [
        {
          "output_type": "execute_result",
          "data": {
            "text/plain": [
              "765"
            ]
          },
          "metadata": {
            "tags": []
          },
          "execution_count": 15
        }
      ]
    },
    {
      "cell_type": "code",
      "metadata": {
        "id": "vG67Pll0fx-Y",
        "colab_type": "code",
        "colab": {
          "base_uri": "https://localhost:8080/",
          "height": 1000
        },
        "outputId": "12872539-442c-40d3-cad1-7a15838e9252"
      },
      "source": [
        "matches[:20]"
      ],
      "execution_count": 17,
      "outputs": [
        {
          "output_type": "execute_result",
          "data": {
            "text/plain": [
              "[Game(title='асассин',\n",
              "      etc=None,\n",
              "      sequel='4',\n",
              "      title_append=None), Game(title='Assassins Creed',\n",
              "      etc=None,\n",
              "      sequel='4',\n",
              "      title_append='Черный флаг'), Game(title='Need For Speed',\n",
              "      etc=None,\n",
              "      sequel=None,\n",
              "      title_append='Shift'), Game(title='Need For Speed',\n",
              "      etc=None,\n",
              "      sequel=None,\n",
              "      title_append=None), Game(title='мортал комбат',\n",
              "      etc=None,\n",
              "      sequel=None,\n",
              "      title_append=None), Game(title='nfs',\n",
              "      etc=None,\n",
              "      sequel=None,\n",
              "      title_append=None), Game(title='Nfs',\n",
              "      etc=None,\n",
              "      sequel=None,\n",
              "      title_append=None), Game(title='Ведьмак',\n",
              "      etc=None,\n",
              "      sequel=None,\n",
              "      title_append=None), Game(title='Assassins creed',\n",
              "      etc=None,\n",
              "      sequel=None,\n",
              "      title_append='unity'), Game(title='Mortal Kombat',\n",
              "      etc=None,\n",
              "      sequel=None,\n",
              "      title_append=None), Game(title='assassins creed',\n",
              "      etc=None,\n",
              "      sequel=None,\n",
              "      title_append='синдикат'), Game(title=\"Assassin's creed\",\n",
              "      etc=None,\n",
              "      sequel='IV',\n",
              "      title_append=None), Game(title=\"Assassin's creed\",\n",
              "      etc=None,\n",
              "      sequel=None,\n",
              "      title_append='Rogue'), Game(title='Need For Speed',\n",
              "      etc=None,\n",
              "      sequel=None,\n",
              "      title_append='Most Wanted'), Game(title='Need For Speed',\n",
              "      etc=None,\n",
              "      sequel=None,\n",
              "      title_append=None), Game(title='Need for Speed',\n",
              "      etc=None,\n",
              "      sequel=None,\n",
              "      title_append='Rivals'), Game(title='Mortal Kombat',\n",
              "      etc=None,\n",
              "      sequel=None,\n",
              "      title_append=None), Game(title=\"Assassin's Creed\",\n",
              "      etc=None,\n",
              "      sequel=None,\n",
              "      title_append=None), Game(title='Ведьмак',\n",
              "      etc=None,\n",
              "      sequel='3',\n",
              "      title_append=None), Game(title='Need for Speed',\n",
              "      etc=None,\n",
              "      sequel=None,\n",
              "      title_append=None)]"
            ]
          },
          "metadata": {
            "tags": []
          },
          "execution_count": 17
        }
      ]
    },
    {
      "cell_type": "code",
      "metadata": {
        "id": "r00C45b5SCRD",
        "colab_type": "code",
        "colab": {}
      },
      "source": [
        ""
      ],
      "execution_count": 0,
      "outputs": []
    }
  ]
}